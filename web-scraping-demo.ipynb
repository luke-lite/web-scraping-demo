{
 "cells": [
  {
   "cell_type": "code",
   "execution_count": null,
   "metadata": {},
   "outputs": [],
   "source": [
    "# import packages\n",
    "from selenium import webdriver\n",
    "from bs4 import BeautifulSoup\n",
    "import pandas as pd"
   ]
  },
  {
   "cell_type": "code",
   "execution_count": null,
   "metadata": {},
   "outputs": [],
   "source": [
    "# activate the driver\n",
    "driver = webdriver.Chrome()"
   ]
  },
  {
   "cell_type": "code",
   "execution_count": null,
   "metadata": {},
   "outputs": [],
   "source": [
    "# url I want to scrape\n",
    "url = 'https://www.basketball-reference.com/boxscores/197606040BOS.html'\n",
    "# open the url\n",
    "driver.get(url)"
   ]
  },
  {
   "cell_type": "code",
   "execution_count": null,
   "metadata": {},
   "outputs": [],
   "source": [
    "# save the webpage source code\n",
    "src = driver.page_source"
   ]
  },
  {
   "cell_type": "code",
   "execution_count": null,
   "metadata": {},
   "outputs": [],
   "source": [
    "driver.quit()"
   ]
  },
  {
   "cell_type": "code",
   "execution_count": null,
   "metadata": {},
   "outputs": [],
   "source": [
    "# create Beautiful Soup object\n",
    "parser = BeautifulSoup(src, 'lxml')"
   ]
  },
  {
   "cell_type": "code",
   "execution_count": null,
   "metadata": {},
   "outputs": [],
   "source": [
    "# pull all boxscores on the webpage\n",
    "stat_tables = parser.findAll('table', attrs = {'class': 'sortable stats_table now_sortable'})\n",
    "len(stat_tables)"
   ]
  },
  {
   "cell_type": "code",
   "execution_count": null,
   "metadata": {
    "scrolled": true
   },
   "outputs": [],
   "source": [
    "# skip first row (overheader)\n",
    "rows = stat_tables[0].findAll('tr')[1:]"
   ]
  },
  {
   "cell_type": "code",
   "execution_count": null,
   "metadata": {},
   "outputs": [],
   "source": [
    "# create a list with the column headers\n",
    "headers = rows[0].findAll('th')\n",
    "headerlist = [h.text.strip() for h in headers]"
   ]
  },
  {
   "cell_type": "code",
   "execution_count": null,
   "metadata": {},
   "outputs": [],
   "source": [
    "headerlist"
   ]
  },
  {
   "cell_type": "code",
   "execution_count": null,
   "metadata": {},
   "outputs": [],
   "source": [
    "# skip the header row\n",
    "data = rows[1:]\n",
    "# get names column\n",
    "player_names = [row.find('th').text.strip() for row in rows]\n",
    "# get player stats\n",
    "player_stats = [[stat.text.strip() for stat in row.findAll('td')] for row in data]"
   ]
  },
  {
   "cell_type": "code",
   "execution_count": null,
   "metadata": {},
   "outputs": [],
   "source": [
    "for i in range(len(player_stats)):\n",
    "    # ignore header with i+1, insert player names into the beginning of each data row\n",
    "    player_stats[i].insert(0, player_names[i+1])\n",
    "\n",
    "# create player stats dataframe\n",
    "player_box_df = pd.DataFrame(player_stats, columns=headerlist)\n",
    "# drop 'Reserves' row\n",
    "player_box_df.drop(player_box_df[player_box_df['Starters'] == 'Reserves'].index, inplace=True)\n",
    "player_box_df.rename(columns={'Starters':'Players'}, inplace=True)"
   ]
  },
  {
   "cell_type": "code",
   "execution_count": null,
   "metadata": {},
   "outputs": [],
   "source": [
    "player_box_df"
   ]
  }
 ],
 "metadata": {
  "kernelspec": {
   "display_name": "scraper-env",
   "language": "python",
   "name": "scraper-env"
  },
  "language_info": {
   "codemirror_mode": {
    "name": "ipython",
    "version": 3
   },
   "file_extension": ".py",
   "mimetype": "text/x-python",
   "name": "python",
   "nbconvert_exporter": "python",
   "pygments_lexer": "ipython3",
   "version": "3.11.2"
  }
 },
 "nbformat": 4,
 "nbformat_minor": 4
}
